{
 "cells": [
  {
   "cell_type": "markdown",
   "metadata": {},
   "source": [
    "## Code Summary\n",
    "\n",
    "This Python script reads a GeoTIFF file named 'IRENA\\_hdr\\_T()km\\_global.tiff', extracts the coordinates (longitude and latitude) and data values from its first band. It then creates a Pandas DataFrame with columns for 'x' (longitude), 'y' (latitude), and 'temperature' (data values). Finally, it saves this DataFrame to an Excel file named 'geothermal\\_data\\_3km.xlsx'."
   ]
  },
  {
   "cell_type": "code",
   "execution_count": null,
   "metadata": {},
   "outputs": [],
   "source": [
    "import rasterio\n",
    "import pandas as pd\n",
    "import numpy as np\n",
    "\n",
    "#GeoTIFF\n",
    "with rasterio.open('IRENA_hdr_T3km_global.tiff') as src:\n",
    "    data = src.read(1)  # Reading the first layer\n",
    "    transform = src.transform\n",
    "\n",
    "# Get coordinates for each pixel\n",
    "rows, cols = np.indices(data.shape)\n",
    "xs, ys = rasterio.transform.xy(transform, rows, cols)\n",
    "\n",
    "# turn into massive arrays\n",
    "xs = np.array(xs).flatten()\n",
    "ys = np.array(ys).flatten()\n",
    "values = data.flatten()\n",
    "\n",
    "# creating DataFrame\n",
    "df = pd.DataFrame({'x': xs, 'y': ys, 'temperature': values})\n",
    "\n",
    "df"
   ]
  },
  {
   "cell_type": "code",
   "execution_count": null,
   "metadata": {},
   "outputs": [],
   "source": [
    "df.to_excel('geothermal_data_3km.xlsx', index=False)"
   ]
  }
 ],
 "metadata": {
  "kernelspec": {
   "display_name": "base",
   "language": "python",
   "name": "python3"
  },
  "language_info": {
   "name": "python",
   "version": "3.12.7"
  }
 },
 "nbformat": 4,
 "nbformat_minor": 2
}
