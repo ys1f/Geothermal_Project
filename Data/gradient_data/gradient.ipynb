{
 "cells": [
  {
   "cell_type": "markdown",
   "metadata": {},
   "source": [
    "## Calculating Geothermal Gradient\n",
    "\n",
    "This code calculates the geothermal gradient by:\n",
    "\n",
    "1.  **Loading temperature data** from three Excel files ('geothermal\\_data\\_1km.xlsx', 'geothermal\\_data\\_2km.xlsx', 'geothermal\\_data\\_3km.xlsx') representing depths of 1 km, 2 km, and 3 km.\n",
    "2.  **Renaming the 'temperature' column** in each DataFrame to 'T1', 'T2', and 'T3' respectively.\n",
    "3.  **Merging the DataFrames** based on 'x' and 'y' coordinates.\n",
    "4.  **Defining depths** as an array: `[1, 2, 3]`.\n",
    "5.  **Calculating the geothermal gradient** for each location using linear regression. For each row, it fits a line through the temperatures at the three depths and extracts the slope as the gradient.\n",
    "6.  **Adding a 'gradient' column** to the merged DataFrame with the calculated values.\n",
    "\n",
    "The resulting DataFrame with the calculated geothermal gradient can then be saved to a new file (though not explicitly shown in this code)."
   ]
  },
  {
   "cell_type": "code",
   "execution_count": 1,
   "metadata": {},
   "outputs": [
    {
     "name": "stdout",
     "output_type": "stream",
     "text": [
      "Файл 'geothermal_gradient.xlsx' успешно создан!\n"
     ]
    }
   ],
   "source": [
    "import pandas as pd\n",
    "import numpy as np\n",
    "from sklearn.linear_model import LinearRegression\n",
    "\n",
    "# Loading data from Excel files\n",
    "df1 = pd.read_excel(\"geothermal_data_1km.xlsx\")  # data for depth 1 km\n",
    "df2 = pd.read_excel(\"geothermal_data_2km.xlsx\")  # data for depth 2 km\n",
    "df3 = pd.read_excel(\"geothermal_data_3km.xlsx\")  # data for depth 3 km\n",
    "\n",
    "# Renaming the temperature column for convenience\n",
    "df1 = df1.rename(columns={\"temperature\": \"T1\"})\n",
    "df2 = df2.rename(columns={\"temperature\": \"T2\"})\n",
    "df3 = df3.rename(columns={\"temperature\": \"T3\"})\n",
    "\n",
    "# Merging data by coordinates (x, y)\n",
    "df = df1.merge(df2, on=[\"x\", \"y\"]).merge(df3, on=[\"x\", \"y\"])\n",
    "\n",
    "# Defining depths (e.g., 1 km, 2 km, 3 km)\n",
    "depths = np.array([1, 2, 3]).reshape(-1, 1)\n",
    "\n",
    "# Function to calculate gradient using linear regression for each row\n",
    "def calc_gradient(row):\n",
    "    temps = np.array([row[\"T1\"], row[\"T2\"], row[\"T3\"]])\n",
    "    model = LinearRegression().fit(depths, temps)\n",
    "    return model.coef_[0]\n",
    "\n",
    "# Applying the function to each row\n",
    "df[\"gradient\"] = df.apply(calc_gradient, axis=1)\n",
    "\n",
    "print(\"File 'geothermal_gradient.xlsx' successfully created!\")\n",
    "      \n",
    "df"
   ]
  },
  {
   "cell_type": "markdown",
   "metadata": {},
   "source": [
    "## Filtering Data for Texas\n",
    "\n",
    "now we should define the latitude and longitude boundaries for Texas, and then filters the data to keep only the entries within those boundaries. The result is a new DataFrame containing data specific to Texas."
   ]
  },
  {
   "cell_type": "code",
   "execution_count": 5,
   "metadata": {},
   "outputs": [],
   "source": [
    "import pandas as pd\n",
    "\n",
    "# Reading data from the file\n",
    "df = pd.read_excel('geothermal_gradient.xlsx')\n",
    "\n",
    "# Defining Texas boundaries\n",
    "min_lat = 25.84  # minimum latitude\n",
    "max_lat = 36.5   # maximum latitude\n",
    "min_lon = -106.65 # minimum longitude\n",
    "max_lon = -93.51  # maximum longitude\n",
    "\n",
    "# Filtering data\n",
    "texas_df = df[(df['y'] >= min_lat) & (df['y'] <= max_lat) &\n",
    "                (df['x'] >= min_lon) & (df['x'] <= max_lon)]\n",
    "texas_df"
   ]
  },
  {
   "cell_type": "markdown",
   "metadata": {},
   "source": [
    "Exported final dataset to 'texas_data.csv' "
   ]
  },
  {
   "cell_type": "code",
   "execution_count": 7,
   "metadata": {},
   "outputs": [],
   "source": [
    "texas_df.to_csv('texas_data.csv', index=False)"
   ]
  }
 ],
 "metadata": {
  "kernelspec": {
   "display_name": "base",
   "language": "python",
   "name": "python3"
  },
  "language_info": {
   "codemirror_mode": {
    "name": "ipython",
    "version": 3
   },
   "file_extension": ".py",
   "mimetype": "text/x-python",
   "name": "python",
   "nbconvert_exporter": "python",
   "pygments_lexer": "ipython3",
   "version": "3.12.4"
  }
 },
 "nbformat": 4,
 "nbformat_minor": 2
}
