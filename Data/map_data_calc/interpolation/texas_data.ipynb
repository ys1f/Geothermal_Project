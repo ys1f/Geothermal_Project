{
 "cells": [
  {
   "cell_type": "code",
   "execution_count": 5,
   "metadata": {},
   "outputs": [
    {
     "name": "stdout",
     "output_type": "stream",
     "text": [
      "DF_Texas head:\n",
      "   Longitude  Latitude\n",
      "0     -95.46     31.80\n",
      "1     -95.46     31.80\n",
      "2     -95.72     31.96\n",
      "3     -95.48     31.62\n",
      "4     -95.48     31.62\n",
      "\n",
      "DF_Imputed head:\n",
      "   Longitude  Latitude\n",
      "0    -124.42     51.25\n",
      "1    -124.25     51.25\n",
      "2    -124.08     51.25\n",
      "3    -123.92     51.25\n",
      "4    -123.75     51.25\n",
      "Файл 'merged_data.xlsx' успешно создан!\n"
     ]
    }
   ],
   "source": [
    "import pandas as pd\n",
    "\n",
    "# Чтение первого файла CSV\n",
    "df_texas = pd.read_csv(\"df_texas.csv\")\n",
    "\n",
    "# Чтение второго файла Excel\n",
    "df_imputed = pd.read_excel(\"imputed_data.xlsx\")\n",
    "\n",
    "# Переименование столбцов для объединения\n",
    "df_imputed.rename(columns={\"x\": \"Longitude\", \"y\": \"Latitude\"}, inplace=True)\n",
    "\n",
    "# Приведение столбцов координат к числовому типу и округление до 2 знаков (при необходимости можно увеличить точность)\n",
    "df_texas['Longitude'] = pd.to_numeric(df_texas['Longitude'], errors='coerce').round(2)\n",
    "df_texas['Latitude'] = pd.to_numeric(df_texas['Latitude'], errors='coerce').round(2)\n",
    "df_imputed['Longitude'] = pd.to_numeric(df_imputed['Longitude'], errors='coerce').round(2)\n",
    "df_imputed['Latitude'] = pd.to_numeric(df_imputed['Latitude'], errors='coerce').round(2)\n",
    "\n",
    "# Опционально можно проверить первые строки, чтобы убедиться, что значения совпадают:\n",
    "print(\"DF_Texas head:\")\n",
    "print(df_texas[['Longitude', 'Latitude']].head())\n",
    "print(\"\\nDF_Imputed head:\")\n",
    "print(df_imputed[['Longitude', 'Latitude']].head())\n",
    "\n",
    "# Объединение таблиц по столбцам \"Longitude\" и \"Latitude\" (inner join – оставляет только совпадающие строки)\n",
    "merged_df = pd.merge(df_texas, df_imputed, on=[\"Longitude\", \"Latitude\"], how=\"inner\")\n",
    "\n",
    "# Сохранение объединённых данных в новый Excel-файл\n",
    "merged_df.to_excel(\"merged_data.xlsx\", index=False)\n",
    "\n",
    "print(\"Файл 'merged_data.xlsx' успешно создан!\")\n",
    "\n"
   ]
  },
  {
   "cell_type": "code",
   "execution_count": 1,
   "metadata": {},
   "outputs": [
    {
     "ename": "NameError",
     "evalue": "name 'merged_df' is not defined",
     "output_type": "error",
     "traceback": [
      "\u001b[1;31m---------------------------------------------------------------------------\u001b[0m",
      "\u001b[1;31mNameError\u001b[0m                                 Traceback (most recent call last)",
      "Cell \u001b[1;32mIn[1], line 1\u001b[0m\n\u001b[1;32m----> 1\u001b[0m merged_df\n",
      "\u001b[1;31mNameError\u001b[0m: name 'merged_df' is not defined"
     ]
    }
   ],
   "source": [
    "merged_df"
   ]
  },
  {
   "cell_type": "code",
   "execution_count": null,
   "metadata": {},
   "outputs": [],
   "source": []
  }
 ],
 "metadata": {
  "kernelspec": {
   "display_name": "base",
   "language": "python",
   "name": "python3"
  },
  "language_info": {
   "codemirror_mode": {
    "name": "ipython",
    "version": 3
   },
   "file_extension": ".py",
   "mimetype": "text/x-python",
   "name": "python",
   "nbconvert_exporter": "python",
   "pygments_lexer": "ipython3",
   "version": "3.12.4"
  }
 },
 "nbformat": 4,
 "nbformat_minor": 2
}
