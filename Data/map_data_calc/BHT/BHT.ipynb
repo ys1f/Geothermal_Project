{
 "cells": [
  {
   "cell_type": "markdown",
   "id": "09eff718",
   "metadata": {},
   "source": [
    "# BHT Calculation Analysis\n",
    "\n",
    "## Overview\n",
    "Calculation of Bottom Hole Temperature (BHT) for wells using interpolated gradient and depth data.\n",
    "\n",
    "## Process\n",
    "1. Loaded data from 'wells_with_interpolated_gradient.xlsx'\n",
    "2. Calculated BHT using formula: BHT = 20 + (Interpolated gradient × Depth in km)\n",
    "3. Saved results to 'wells_with_bht.xlsx'"
   ]
  },
  {
   "cell_type": "code",
   "execution_count": 3,
   "id": "1750b5ec",
   "metadata": {},
   "outputs": [],
   "source": [
    "import pandas as pd\n",
    "\n",
    "# Load the Excel file\n",
    "file_path = 'wells_with_interpolated_gradient.xlsx'\n",
    "df = pd.read_excel(file_path)\n",
    "\n",
    "# Ensure that the 'interpolated_gradient' and 'True Vertical Depth (km)' columns exist\n",
    "if 'Interpolated gradient' in df.columns and 'True Vertical Depth (km)' in df.columns:\n",
    "    # Create a new column 'BHT'\n",
    "    df['BHT'] = 20 + (df['Interpolated gradient'] * df['True Vertical Depth (km)'])\n",
    "    \n",
    "    # Save the changes to a new file\n",
    "    df.to_excel('wells_with_bht.xlsx', index=False)\n",
    "else:\n",
    "    print(\"The required columns were not found in the file.\")\n"
   ]
  }
 ],
 "metadata": {
  "kernelspec": {
   "display_name": "base",
   "language": "python",
   "name": "python3"
  },
  "language_info": {
   "codemirror_mode": {
    "name": "ipython",
    "version": 3
   },
   "file_extension": ".py",
   "mimetype": "text/x-python",
   "name": "python",
   "nbconvert_exporter": "python",
   "pygments_lexer": "ipython3",
   "version": "3.12.7"
  }
 },
 "nbformat": 4,
 "nbformat_minor": 5
}
